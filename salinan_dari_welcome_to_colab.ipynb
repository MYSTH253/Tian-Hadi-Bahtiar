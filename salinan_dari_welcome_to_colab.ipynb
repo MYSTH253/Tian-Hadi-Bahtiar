{
  "cells": [
    {
      "cell_type": "markdown",
      "metadata": {
        "id": "view-in-github",
        "colab_type": "text"
      },
      "source": [
        "<a href=\"https://colab.research.google.com/github/MYSTH253/Tian-Hadi-Bahtiar/blob/main/salinan_dari_welcome_to_colab.ipynb\" target=\"_parent\"><img src=\"https://colab.research.google.com/assets/colab-badge.svg\" alt=\"Open In Colab\"/></a>"
      ]
    },
    {
      "cell_type": "code",
      "source": [
        "Nama = input(\"memasukan nama anda: \")\n",
        "print(f\"hallo, {Nama}! Selamat Belajar Phyton\")"
      ],
      "metadata": {
        "colab": {
          "base_uri": "https://localhost:8080/"
        },
        "id": "sMTx7bi4LHFw",
        "outputId": "591fdde1-0719-43b3-c402-310b7ffa15e8"
      },
      "execution_count": null,
      "outputs": [
        {
          "output_type": "stream",
          "name": "stdout",
          "text": [
            "memasukan nama anda: Tian Hadi Bahtiar\n",
            "hallo, Tian Hadi Bahtiar! Selamat Belajar Phyton\n"
          ]
        }
      ]
    },
    {
      "cell_type": "code",
      "source": [
        "Panjang = float(input(\"memasukan panjang: \"))\n",
        "Lebar = float(input(\"memasukan lebar: \"))\n",
        "luas = Panjang*Lebar\n",
        "print(f\"Luas  {luas}\")"
      ],
      "metadata": {
        "colab": {
          "base_uri": "https://localhost:8080/"
        },
        "id": "E8xQjZATMMFH",
        "outputId": "2d628351-b327-4dd2-bd08-9e0fdde8c1cb"
      },
      "execution_count": null,
      "outputs": [
        {
          "output_type": "stream",
          "name": "stdout",
          "text": [
            "memasukan panjang: 5\n",
            "memasukan lebar: 3\n",
            "Luas  15.0\n"
          ]
        }
      ]
    },
    {
      "cell_type": "code",
      "source": [
        "Bilangan = int(input(\"masukan bilangan bulat: \"))\n",
        "if Bilangan % 2 == 0:\n",
        "  print(f\"{Bilangan}adalah bilangan genap\")\n",
        "else:\n",
        "  print(f\"{Bilangan}adalah bilangan ganjil\")"
      ],
      "metadata": {
        "colab": {
          "base_uri": "https://localhost:8080/"
        },
        "id": "Yv9CaN2vOzIH",
        "outputId": "e1c8bd00-8370-4989-8229-e9c1904097ea"
      },
      "execution_count": null,
      "outputs": [
        {
          "output_type": "stream",
          "name": "stdout",
          "text": [
            "masukan bilangan bulat: 7\n",
            "7adalah bilangan ganjil\n"
          ]
        }
      ]
    },
    {
      "cell_type": "code",
      "source": [
        "for i in range(1,21):\n",
        "  print(i, end=\" \")"
      ],
      "metadata": {
        "colab": {
          "base_uri": "https://localhost:8080/"
        },
        "id": "yJxXXDhpSe0A",
        "outputId": "ddf31b6b-89fd-42da-e251-61ee46baa791"
      },
      "execution_count": null,
      "outputs": [
        {
          "output_type": "stream",
          "name": "stdout",
          "text": [
            "1 2 3 4 5 6 7 8 9 10 11 12 13 14 15 16 17 18 19 20 "
          ]
        }
      ]
    },
    {
      "cell_type": "code",
      "source": [
        "\n",
        "a = int(input(\"Masukkan bilangan pertama (a): \"))\n",
        "b = int(input(\"Masukkan bilangan kedua (b): \"))\n",
        "\n",
        "if a > b:\n",
        "    a, b = b, a\n",
        "\n",
        "i = a\n",
        "\n",
        "print(\"Bilangan genap antara\", a, \"dan\", b, \":\")\n",
        "while i <= b:\n",
        "    if i % 2 == 0:\n",
        "        print(i, end=\" \")\n",
        "    i += 1"
      ],
      "metadata": {
        "colab": {
          "base_uri": "https://localhost:8080/"
        },
        "id": "Pqv_ng8CeY4S",
        "outputId": "1dfdd5b3-bc84-4e43-d25c-87c6af1bba7f"
      },
      "execution_count": null,
      "outputs": [
        {
          "output_type": "stream",
          "name": "stdout",
          "text": [
            "Masukkan bilangan pertama (a): 3\n",
            "Masukkan bilangan kedua (b): 15\n",
            "Bilangan genap antara 3 dan 15 :\n",
            "4 6 8 10 12 14 "
          ]
        }
      ]
    },
    {
      "cell_type": "code",
      "source": [
        "a = int(input(\"masukan bilangan bulat : \"))\n",
        "b = int(input(\"masukan bilangan kedua : \"))\n",
        "print (f\"bilangan genap dari rentang {a} sampai {b} adalah:\" )\n",
        "for i in range(a, b+1):\n",
        "   if i % 2 == 0:\n",
        "      print(i)"
      ],
      "metadata": {
        "colab": {
          "base_uri": "https://localhost:8080/"
        },
        "id": "OZ9IRGfEZ7CS",
        "outputId": "85efe2fd-0722-447a-818b-97340620415d"
      },
      "execution_count": null,
      "outputs": [
        {
          "output_type": "stream",
          "name": "stdout",
          "text": [
            "masukan bilangan bulat : 3\n",
            "masukan bilangan kedua : 10\n",
            "bilangan genap dari rentang 3 sampai 10 adalah:\n",
            "4\n",
            "6\n",
            "8\n",
            "10\n"
          ]
        }
      ]
    },
    {
      "cell_type": "code",
      "source": [
        "A = [5, 2, 8, 1]\n",
        "array_terbalik = [0] * len (A)\n",
        "for i in range(len(A)):\n",
        "    array_terbalik[i] = A [len(A) -i -1]\n",
        "print(array_terbalik)"
      ],
      "metadata": {
        "colab": {
          "base_uri": "https://localhost:8080/"
        },
        "id": "w36LOwXoepnL",
        "outputId": "d5fafb7e-e917-499a-a76d-a0ac267cd36e"
      },
      "execution_count": null,
      "outputs": [
        {
          "output_type": "stream",
          "name": "stdout",
          "text": [
            "[1, 8, 2, 5]\n"
          ]
        }
      ]
    },
    {
      "cell_type": "code",
      "source": [
        "bilangan = int(input(\"masukan bilangan bulat: \"))\n",
        "if bilangan < 2:\n",
        "    print(f\"{bilangan} bukan bilangan prima.\")\n",
        "else:\n",
        "    for i in range(2,int(bilangan ** 0.5)+1):\n",
        "        if bilangan % i == 0:\n",
        "            print(f\"{bilangan} bukan bilangan prima.\")\n",
        "            break\n",
        "    else:\n",
        "        print(f\"{bilangan} adalah bilangan prima.\")"
      ],
      "metadata": {
        "colab": {
          "base_uri": "https://localhost:8080/"
        },
        "id": "Ri7ySfzkjmlS",
        "outputId": "30a6c931-c5ec-4aa4-d6c9-b528197505b5"
      },
      "execution_count": null,
      "outputs": [
        {
          "output_type": "stream",
          "name": "stdout",
          "text": [
            "masukan bilangan bulat: 13\n",
            "13 adalah bilangan prima.\n"
          ]
        }
      ]
    }
  ],
  "metadata": {
    "colab": {
      "provenance": [],
      "include_colab_link": true
    },
    "kernelspec": {
      "display_name": "Python 3",
      "name": "python3"
    }
  },
  "nbformat": 4,
  "nbformat_minor": 0
}
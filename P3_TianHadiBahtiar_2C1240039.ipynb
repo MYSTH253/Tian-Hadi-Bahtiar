{
  "nbformat": 4,
  "nbformat_minor": 0,
  "metadata": {
    "colab": {
      "provenance": [],
      "authorship_tag": "ABX9TyNnhhhcGgJB0yn/HIuXJKiB",
      "include_colab_link": true
    },
    "kernelspec": {
      "name": "python3",
      "display_name": "Python 3"
    },
    "language_info": {
      "name": "python"
    }
  },
  "cells": [
    {
      "cell_type": "markdown",
      "metadata": {
        "id": "view-in-github",
        "colab_type": "text"
      },
      "source": [
        "<a href=\"https://colab.research.google.com/github/MYSTH253/Tian-Hadi-Bahtiar/blob/main/P3_TianHadiBahtiar_2C1240039.ipynb\" target=\"_parent\"><img src=\"https://colab.research.google.com/assets/colab-badge.svg\" alt=\"Open In Colab\"/></a>"
      ]
    },
    {
      "cell_type": "code",
      "execution_count": null,
      "metadata": {
        "colab": {
          "base_uri": "https://localhost:8080/"
        },
        "id": "Zr2jJVm2tj8b",
        "outputId": "089cdad4-7eac-474c-f69b-b69e42c96baf"
      },
      "outputs": [
        {
          "output_type": "stream",
          "name": "stdout",
          "text": [
            "7\n"
          ]
        }
      ],
      "source": [
        "numbint = [9,8,7,6,5,4,3,2,1,0]\n",
        "print (numbint[2])"
      ]
    },
    {
      "cell_type": "code",
      "source": [
        "x = [0 for i in range(10)]\n",
        "print (x)"
      ],
      "metadata": {
        "id": "MVmhQHwyuxny",
        "colab": {
          "base_uri": "https://localhost:8080/"
        },
        "outputId": "f829c135-6be9-4723-e9ca-1bb174ef2f83"
      },
      "execution_count": null,
      "outputs": [
        {
          "output_type": "stream",
          "name": "stdout",
          "text": [
            "[0, 0, 0, 0, 0, 0, 0, 0, 0, 0]\n"
          ]
        }
      ]
    },
    {
      "cell_type": "code",
      "source": [
        "x = [\"*\" for i in range(10)]\n",
        "print(x)"
      ],
      "metadata": {
        "colab": {
          "base_uri": "https://localhost:8080/"
        },
        "id": "dg3pt63iw7kB",
        "outputId": "fd2b9b87-436b-42c1-f056-7acf831bc9c0"
      },
      "execution_count": null,
      "outputs": [
        {
          "output_type": "stream",
          "name": "stdout",
          "text": [
            "['*', '*', '*', '*', '*', '*', '*', '*', '*', '*']\n"
          ]
        }
      ]
    },
    {
      "cell_type": "code",
      "source": [
        "TabInt = [1,2,4,-1,100,2,0,-1,3,9]\n",
        "print(TabInt[5])\n",
        "x = TabInt[1] + TabInt[6]\n",
        "TabInt[9] = 9\n",
        "print(TabInt[9])\n",
        "print(x)\n",
        "\n"
      ],
      "metadata": {
        "colab": {
          "base_uri": "https://localhost:8080/"
        },
        "id": "VsXvAPM7xYi6",
        "outputId": "5a350f80-68e8-4dbd-84e2-3f8a893faf5d"
      },
      "execution_count": 4,
      "outputs": [
        {
          "output_type": "stream",
          "name": "stdout",
          "text": [
            "2\n",
            "9\n",
            "2\n"
          ]
        }
      ]
    },
    {
      "cell_type": "code",
      "source": [
        "NumbInt = [0 for i in range(10)]\n",
        "for i in range(0,10): NumbInt[i] = int(input())"
      ],
      "metadata": {
        "colab": {
          "base_uri": "https://localhost:8080/"
        },
        "id": "DV2xMPd60HMC",
        "outputId": "92cca38f-8e20-48d5-f9a3-a449b381f2e6"
      },
      "execution_count": 5,
      "outputs": [
        {
          "name": "stdout",
          "output_type": "stream",
          "text": [
            "4\n",
            "3\n",
            "2\n",
            "1\n",
            "5\n",
            "6\n",
            "7\n",
            "8\n",
            "9\n",
            "0\n"
          ]
        }
      ]
    },
    {
      "cell_type": "code",
      "source": [
        "NumbInt = [0 for i in range(10)]\n",
        "for i in range(0,10):\n",
        "    NumbInt[i] = int(input())\n",
        "\n",
        "print(NumbInt[i])\n",
        "for i in range(0,10):\n",
        "    print(NumbInt[i])"
      ],
      "metadata": {
        "colab": {
          "base_uri": "https://localhost:8080/"
        },
        "id": "o6b1mG9y1F0z",
        "outputId": "9f64e48b-56fa-49a6-e9f3-f2bc3373f8e5"
      },
      "execution_count": 11,
      "outputs": [
        {
          "output_type": "stream",
          "name": "stdout",
          "text": [
            "1\n",
            "2\n",
            "3\n",
            "4\n",
            "5\n",
            "6\n",
            "7\n",
            "8\n",
            "9\n",
            "0\n",
            "0\n",
            "1\n",
            "2\n",
            "3\n",
            "4\n",
            "5\n",
            "6\n",
            "7\n",
            "8\n",
            "9\n",
            "0\n"
          ]
        }
      ]
    },
    {
      "cell_type": "code",
      "source": [
        "NumbInt = [0 for i in range(10)]\n",
        "\n",
        "for i in range(0,10):\n",
        "    NumbInt[i] = int(input())\n",
        "\n",
        "sum = 0\n",
        "for i in range(0,10):\n",
        "    sum = sum + NumbInt[i]\n",
        "\n",
        "rata = sum/10\n",
        "print (\"Nilai rata-rata = \" + str(rata))"
      ],
      "metadata": {
        "colab": {
          "base_uri": "https://localhost:8080/"
        },
        "id": "YkwFKat52_pL",
        "outputId": "6fc89c05-4a37-46b3-dbc7-6b33bb2b013c"
      },
      "execution_count": 14,
      "outputs": [
        {
          "output_type": "stream",
          "name": "stdout",
          "text": [
            "1\n",
            "1\n",
            "2\n",
            "2\n",
            "3\n",
            "3\n",
            "4\n",
            "4\n",
            "5\n",
            "5\n",
            "Nilai rata-rata = 3.0\n"
          ]
        }
      ]
    },
    {
      "cell_type": "code",
      "source": [
        "\n",
        "S = [4, 1, -1, 10, 0, 12]\n",
        "\n",
        "D = int(input(\"Masukkan nilai D (pengali): \"))\n",
        "\n",
        "S = [elemen * D for elemen in S]\n",
        "\n",
        "print(\"Array S setelah dikalikan dengan D:\")\n",
        "print(S)\n",
        "\n",
        "maks = max(S)\n",
        "minim = min(S)\n",
        "\n",
        "print(\"Nilai terbesar dalam array:\", maks)\n",
        "print(\"Nilai terkecil dalam array:\", minim)"
      ],
      "metadata": {
        "colab": {
          "base_uri": "https://localhost:8080/"
        },
        "id": "-n8kXHG15TIT",
        "outputId": "7648e8cb-3ce2-49b7-bd67-06f64ee74b98"
      },
      "execution_count": 15,
      "outputs": [
        {
          "output_type": "stream",
          "name": "stdout",
          "text": [
            "Masukkan nilai D (pengali): 5\n",
            "Array S setelah dikalikan dengan D:\n",
            "[20, 5, -5, 50, 0, 60]\n",
            "Nilai terbesar dalam array: 60\n",
            "Nilai terkecil dalam array: -5\n"
          ]
        }
      ]
    },
    {
      "cell_type": "code",
      "source": [
        "for i in range(5):\n",
        "  for i in range(5):\n",
        "    print(MatM[j][i],end=)\n",
        "  print()"
      ],
      "metadata": {
        "colab": {
          "base_uri": "https://localhost:8080/",
          "height": 106
        },
        "id": "J3mmgabc6vWE",
        "outputId": "22f0b2b9-689a-4529-e02a-c48b011b0836"
      },
      "execution_count": 20,
      "outputs": [
        {
          "output_type": "error",
          "ename": "SyntaxError",
          "evalue": "invalid syntax (<ipython-input-20-a39e8d59e956>, line 3)",
          "traceback": [
            "\u001b[0;36m  File \u001b[0;32m\"<ipython-input-20-a39e8d59e956>\"\u001b[0;36m, line \u001b[0;32m3\u001b[0m\n\u001b[0;31m    print(MatM[j][i],end=)\u001b[0m\n\u001b[0m                         ^\u001b[0m\n\u001b[0;31mSyntaxError\u001b[0m\u001b[0;31m:\u001b[0m invalid syntax\n"
          ]
        }
      ]
    },
    {
      "cell_type": "code",
      "source": [
        "NBrs = 5; NKol = 5;\n",
        "M = [[0 for j in range(NKol)] for i in range(NBrs)]\n",
        "\n",
        "for i in range (NBrs):\n",
        "  for j in range (NKol):\n",
        "    M[i][j] = i * j\n",
        "\n",
        "for i in range (NBrs):\n",
        "  for j in range (NKol):\n",
        "    print(str(M[i][j])+\" \", end=\"\")\n",
        "print()\n"
      ],
      "metadata": {
        "colab": {
          "base_uri": "https://localhost:8080/"
        },
        "id": "tz4vLAxT9zYt",
        "outputId": "52987aa4-811b-40ba-cc49-6df6a2f1ee36"
      },
      "execution_count": 27,
      "outputs": [
        {
          "output_type": "stream",
          "name": "stdout",
          "text": [
            "0 0 0 0 0 0 1 2 3 4 0 2 4 6 8 0 3 6 9 12 0 4 8 12 16 \n"
          ]
        }
      ]
    }
  ]
}
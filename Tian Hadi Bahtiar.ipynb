{
  "cells": [
    {
      "cell_type": "markdown",
      "metadata": {
        "id": "view-in-github",
        "colab_type": "text"
      },
      "source": [
        "<a href=\"https://colab.research.google.com/github/MYSTH253/Tian-Hadi-Bahtiar/blob/main/Tian%20Hadi%20Bahtiar.ipynb\" target=\"_parent\"><img src=\"https://colab.research.google.com/assets/colab-badge.svg\" alt=\"Open In Colab\"/></a>"
      ]
    },
    {
      "cell_type": "code",
      "source": [
        "Nama = input(\"memasukan nama anda: \")\n",
        "print(f\"hallo, {Nama}! Selamat Belajar Phyton\")"
      ],
      "metadata": {
        "colab": {
          "base_uri": "https://localhost:8080/"
        },
        "id": "sMTx7bi4LHFw",
        "outputId": "591fdde1-0719-43b3-c402-310b7ffa15e8"
      },
      "execution_count": 3,
      "outputs": [
        {
          "output_type": "stream",
          "name": "stdout",
          "text": [
            "memasukan nama anda: Tian Hadi Bahtiar\n",
            "hallo, Tian Hadi Bahtiar! Selamat Belajar Phyton\n"
          ]
        }
      ]
    },
    {
      "cell_type": "code",
      "source": [
        "Panjang = float(input(\"memasukan panjang: \"))\n",
        "Lebar = float(input(\"memasukan lebar: \"))\n",
        "luas = Panjang*Lebar\n",
        "print(f\"Luas  {luas}\")"
      ],
      "metadata": {
        "colab": {
          "base_uri": "https://localhost:8080/"
        },
        "id": "E8xQjZATMMFH",
        "outputId": "2d628351-b327-4dd2-bd08-9e0fdde8c1cb"
      },
      "execution_count": 7,
      "outputs": [
        {
          "output_type": "stream",
          "name": "stdout",
          "text": [
            "memasukan panjang: 5\n",
            "memasukan lebar: 3\n",
            "Luas  15.0\n"
          ]
        }
      ]
    },
    {
      "cell_type": "code",
      "source": [
        "Bilangan = int(input(\"masukan bilangan bulat: \"))\n",
        "if Bilangan % 2 == 0:\n",
        "  print(f\"{Bilangan}adalah bilangan genap\")\n",
        "else:\n",
        "  print(f\"{Bilangan}adalah bilangan ganjil\")"
      ],
      "metadata": {
        "colab": {
          "base_uri": "https://localhost:8080/"
        },
        "id": "Yv9CaN2vOzIH",
        "outputId": "e1c8bd00-8370-4989-8229-e9c1904097ea"
      },
      "execution_count": 9,
      "outputs": [
        {
          "output_type": "stream",
          "name": "stdout",
          "text": [
            "masukan bilangan bulat: 7\n",
            "7adalah bilangan ganjil\n"
          ]
        }
      ]
    }
  ],
  "metadata": {
    "colab": {
      "name": "Welcome To Colab",
      "toc_visible": true,
      "provenance": [],
      "include_colab_link": true
    },
    "kernelspec": {
      "display_name": "Python 3",
      "name": "python3"
    }
  },
  "nbformat": 4,
  "nbformat_minor": 0
}
{
  "nbformat": 4,
  "nbformat_minor": 0,
  "metadata": {
    "colab": {
      "provenance": [],
      "include_colab_link": true
    },
    "kernelspec": {
      "name": "python3",
      "display_name": "Python 3"
    },
    "language_info": {
      "name": "python"
    }
  },
  "cells": [
    {
      "cell_type": "markdown",
      "metadata": {
        "id": "view-in-github",
        "colab_type": "text"
      },
      "source": [
        "<a href=\"https://colab.research.google.com/github/MYSTH253/Tian-Hadi-Bahtiar/blob/main/P8_Tian_Hadi_Bahtiar_2C1240039.ipynb\" target=\"_parent\"><img src=\"https://colab.research.google.com/assets/colab-badge.svg\" alt=\"Open In Colab\"/></a>"
      ]
    },
    {
      "cell_type": "markdown",
      "source": [
        "**FUNDAMENTAL ARRAY**"
      ],
      "metadata": {
        "id": "wfgZxt5q_TzV"
      }
    },
    {
      "cell_type": "code",
      "execution_count": 2,
      "metadata": {
        "id": "9TB1ZwTr_DYz",
        "colab": {
          "base_uri": "https://localhost:8080/"
        },
        "outputId": "969877fb-904d-4ba8-d76c-e2a1a6ac8662"
      },
      "outputs": [
        {
          "output_type": "stream",
          "name": "stdout",
          "text": [
            "[10, 20, 30, 40]\n"
          ]
        }
      ],
      "source": [
        "arr = [10, 20, 30, 40]\n",
        "print(arr)"
      ]
    },
    {
      "cell_type": "code",
      "source": [
        "list_numbers = [1, 2, 3, 4, 5]\n",
        "print(list_numbers)"
      ],
      "metadata": {
        "id": "Qye2YU0__OFZ",
        "colab": {
          "base_uri": "https://localhost:8080/"
        },
        "outputId": "cfb3b4ff-b3f0-4d3a-8638-d93eb4cf8664"
      },
      "execution_count": 3,
      "outputs": [
        {
          "output_type": "stream",
          "name": "stdout",
          "text": [
            "[1, 2, 3, 4, 5]\n"
          ]
        }
      ]
    },
    {
      "cell_type": "code",
      "source": [
        "list_numbers[0] = 100  # Mengubah elemen pertama menjadi 100\n",
        "print(list_numbers[0] )"
      ],
      "metadata": {
        "id": "Fl3348wK_Rjh",
        "colab": {
          "base_uri": "https://localhost:8080/"
        },
        "outputId": "5c4ba1f3-c703-4de3-e62b-6af635b58d87"
      },
      "execution_count": 5,
      "outputs": [
        {
          "output_type": "stream",
          "name": "stdout",
          "text": [
            "100\n"
          ]
        }
      ]
    },
    {
      "cell_type": "markdown",
      "source": [
        "**MENDEKLARASIKAN ARRAY**"
      ],
      "metadata": {
        "id": "vu07k-Tj_cp9"
      }
    },
    {
      "cell_type": "code",
      "source": [
        "arr = [1, 2, 3, 4, 5]\n",
        "print(arr)"
      ],
      "metadata": {
        "id": "Z7JTYURvCO49",
        "colab": {
          "base_uri": "https://localhost:8080/"
        },
        "outputId": "f51a2877-5015-4d6b-d61b-1a3bf11998d8"
      },
      "execution_count": 6,
      "outputs": [
        {
          "output_type": "stream",
          "name": "stdout",
          "text": [
            "[1, 2, 3, 4, 5]\n"
          ]
        }
      ]
    },
    {
      "cell_type": "code",
      "source": [
        "data = [1, 2, 3, 'hello', 5.5]  # array dengan elemen tipe berbeda\n",
        "print(data)"
      ],
      "metadata": {
        "id": "OKBRVSaA_f6u",
        "colab": {
          "base_uri": "https://localhost:8080/"
        },
        "outputId": "abc16d43-d38a-402a-a5a6-f11cbc8b38d0"
      },
      "execution_count": 7,
      "outputs": [
        {
          "output_type": "stream",
          "name": "stdout",
          "text": [
            "[1, 2, 3, 'hello', 5.5]\n"
          ]
        }
      ]
    },
    {
      "cell_type": "code",
      "source": [
        "arr = [0] * 5  # Membuat array dengan 5 elemen, semua berisi 0\n",
        "print(arr)"
      ],
      "metadata": {
        "id": "2b5ZTBRJ_isp",
        "colab": {
          "base_uri": "https://localhost:8080/"
        },
        "outputId": "984bb1bc-b843-432c-f423-76ce22b06340"
      },
      "execution_count": 9,
      "outputs": [
        {
          "output_type": "stream",
          "name": "stdout",
          "text": [
            "[0, 0, 0, 0, 0]\n"
          ]
        }
      ]
    },
    {
      "cell_type": "code",
      "source": [
        "arr = [10, 20, 30, 40]\n",
        "print(arr[0])  # Output: 10 (indeks pertama)\n",
        "print(arr[3])  # Output: 40 (indeks terakhir)"
      ],
      "metadata": {
        "colab": {
          "base_uri": "https://localhost:8080/"
        },
        "id": "GHWtWUHi_knC",
        "outputId": "13a5b55b-705f-423f-f266-2dc79ef8e2ef"
      },
      "execution_count": 10,
      "outputs": [
        {
          "output_type": "stream",
          "name": "stdout",
          "text": [
            "10\n",
            "40\n"
          ]
        }
      ]
    },
    {
      "cell_type": "markdown",
      "source": [
        "**PEMROSESAN SEKUENSIAL ARRAY**"
      ],
      "metadata": {
        "id": "fQEuwUc3_mrE"
      }
    },
    {
      "cell_type": "code",
      "source": [
        "arr = [10, 20, 30, 40, 50]\n",
        "for elemen in arr:\n",
        "    print(elemen)\n"
      ],
      "metadata": {
        "colab": {
          "base_uri": "https://localhost:8080/"
        },
        "id": "7ZE8ZrrE_qmV",
        "outputId": "c794b55a-922f-4e35-b36d-99bebc80a6d6"
      },
      "execution_count": 11,
      "outputs": [
        {
          "output_type": "stream",
          "name": "stdout",
          "text": [
            "10\n",
            "20\n",
            "30\n",
            "40\n",
            "50\n"
          ]
        }
      ]
    },
    {
      "cell_type": "code",
      "source": [
        "total = 0\n",
        "for elemen in arr:\n",
        "    total += elemen\n",
        "print(total)  # Output: 150\n"
      ],
      "metadata": {
        "colab": {
          "base_uri": "https://localhost:8080/"
        },
        "id": "sWK3Hdb9_tzN",
        "outputId": "77a716f0-843e-4508-d54a-dc3d62d8e8f6"
      },
      "execution_count": 12,
      "outputs": [
        {
          "output_type": "stream",
          "name": "stdout",
          "text": [
            "150\n"
          ]
        }
      ]
    },
    {
      "cell_type": "code",
      "source": [
        "\n",
        "T = [27, -15, 39, 7, 98, 54, -50, 30, -7, 12]\n",
        "\n",
        "print(\"Array T:\", T)\n",
        "\n",
        "# 1. Nilai maksimum\n",
        "maksimum = T[0]\n",
        "for nilai in T:\n",
        "    if nilai > maksimum:\n",
        "        maksimum = nilai\n",
        "print(\"Nilai maksimum:\", maksimum)\n",
        "\n",
        "# 2. Nilai minimum\n",
        "minimum = T[0]\n",
        "for nilai in T:\n",
        "    if nilai < minimum:\n",
        "        minimum = nilai\n",
        "print(\"Nilai minimum:\", minimum)\n",
        "\n",
        "# 3. Hasil penjumlahan seluruh elemen\n",
        "penjumlahan = 0\n",
        "for nilai in T:\n",
        "    penjumlahan += nilai\n",
        "print(\"Hasil penjumlahan seluruh elemen:\", penjumlahan)\n",
        "\n",
        "# 4. Jumlah seluruh elemen\n",
        "jumlah_elemen = 0\n",
        "for _ in T:\n",
        "    jumlah_elemen += 1\n",
        "print(\"Jumlah seluruh elemen:\", jumlah_elemen)\n",
        "\n",
        "# 5. Rata-rata seluruh elemen\n",
        "rata_rata = penjumlahan / jumlah_elemen if jumlah_elemen != 0 else 0\n",
        "print(\"Rata-rata seluruh elemen:\", rata_rata)"
      ],
      "metadata": {
        "colab": {
          "base_uri": "https://localhost:8080/"
        },
        "id": "e_-Bex_yaX74",
        "outputId": "423c8831-4dc9-408b-d215-8a07f7a29571"
      },
      "execution_count": 19,
      "outputs": [
        {
          "output_type": "stream",
          "name": "stdout",
          "text": [
            "Array T: [27, -15, 39, 7, 98, 54, -50, 30, -7, 12]\n",
            "Nilai maksimum: 98\n",
            "Nilai minimum: -50\n",
            "Hasil penjumlahan seluruh elemen: 195\n",
            "Jumlah seluruh elemen: 10\n",
            "Rata-rata seluruh elemen: 19.5\n"
          ]
        }
      ]
    }
  ]
}